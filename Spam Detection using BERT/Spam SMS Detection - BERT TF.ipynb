{
 "cells": [
  {
   "cell_type": "markdown",
   "id": "c49767ce-92de-4571-adea-69fa74b84f73",
   "metadata": {},
   "source": [
    "## <center> `Spam SMS Detection` </center>\n",
    "\n",
    "`Dataset:`\n",
    "The SMS Spam Collection is a set of SMS tagged messages that have been collected for SMS Spam research. It contains one set of SMS messages in English of 5,574 messages, tagged acording being ham (legitimate) or spam.\n",
    "\n",
    "`Objective:`\n",
    "Build an AI model that can classify SMS messages as spam or legitimate. Use techniques like TF-IDF or word embeddings with classifiers like Naive Bayes, Logistic Regression, or Support Vector Machines to identify spam messages\n"
   ]
  },
  {
   "cell_type": "markdown",
   "id": "018519ae-5e8d-4aac-a232-4d96fdde20ef",
   "metadata": {},
   "source": [
    "<a class=\"anchor\" id=\"0.1\"></a>\n",
    "# **Table of Contents** \n",
    "\n",
    "1.\t[Loading Data](#1)\n",
    "1.\t[Data Preparation](#2)\n",
    "1.\t[Exploratory Data Analysis](#3)\n",
    "1.\t[Balancing Data](#4)\n",
    "1.  [Train/Test Splitting](#5)\n",
    "1.  [Model Building](#6)\n",
    "2.  [Model Evaluation](#7)\n",
    "1.\t[Inference](#8)\n",
    "1.\t[Deployment](#9)\n",
    "1.\t[Reference](#10)\n"
   ]
  },
  {
   "cell_type": "markdown",
   "id": "8f7a1fb6-8ebb-4c56-b9d9-b4c929b29730",
   "metadata": {},
   "source": [
    "## Loading Data\n",
    "<a class=\"anchor\" id=\"1\"></a>\n",
    "[Table of Contents](#0.1)"
   ]
  },
  {
   "cell_type": "code",
   "execution_count": 1,
   "id": "fc6868ad-9348-43cf-8644-0f52b644d11e",
   "metadata": {},
   "outputs": [],
   "source": [
    "# import modules\n",
    "import pandas as pd\n",
    "import numpy as np\n",
    "import matplotlib.pyplot as plt\n",
    "import seaborn as sns\n",
    "import tensorflow as tf\n",
    "import tensorflow_hub as hub\n",
    "import tensorflow_text as text\n",
    "import joblib\n",
    "import warnings #ignore warning\n",
    "warnings.filterwarnings(\"ignore\")"
   ]
  },
  {
   "cell_type": "code",
   "execution_count": 2,
   "id": "1cf2ec90-fc34-484f-9a0e-8b65770296e5",
   "metadata": {},
   "outputs": [
    {
     "data": {
      "text/html": [
       "<div>\n",
       "<style scoped>\n",
       "    .dataframe tbody tr th:only-of-type {\n",
       "        vertical-align: middle;\n",
       "    }\n",
       "\n",
       "    .dataframe tbody tr th {\n",
       "        vertical-align: top;\n",
       "    }\n",
       "\n",
       "    .dataframe thead th {\n",
       "        text-align: right;\n",
       "    }\n",
       "</style>\n",
       "<table border=\"1\" class=\"dataframe\">\n",
       "  <thead>\n",
       "    <tr style=\"text-align: right;\">\n",
       "      <th></th>\n",
       "      <th>v1</th>\n",
       "      <th>v2</th>\n",
       "      <th>Unnamed: 2</th>\n",
       "      <th>Unnamed: 3</th>\n",
       "      <th>Unnamed: 4</th>\n",
       "    </tr>\n",
       "  </thead>\n",
       "  <tbody>\n",
       "    <tr>\n",
       "      <th>0</th>\n",
       "      <td>ham</td>\n",
       "      <td>Go until jurong point, crazy.. Available only ...</td>\n",
       "      <td>NaN</td>\n",
       "      <td>NaN</td>\n",
       "      <td>NaN</td>\n",
       "    </tr>\n",
       "    <tr>\n",
       "      <th>1</th>\n",
       "      <td>ham</td>\n",
       "      <td>Ok lar... Joking wif u oni...</td>\n",
       "      <td>NaN</td>\n",
       "      <td>NaN</td>\n",
       "      <td>NaN</td>\n",
       "    </tr>\n",
       "    <tr>\n",
       "      <th>2</th>\n",
       "      <td>spam</td>\n",
       "      <td>Free entry in 2 a wkly comp to win FA Cup fina...</td>\n",
       "      <td>NaN</td>\n",
       "      <td>NaN</td>\n",
       "      <td>NaN</td>\n",
       "    </tr>\n",
       "    <tr>\n",
       "      <th>3</th>\n",
       "      <td>ham</td>\n",
       "      <td>U dun say so early hor... U c already then say...</td>\n",
       "      <td>NaN</td>\n",
       "      <td>NaN</td>\n",
       "      <td>NaN</td>\n",
       "    </tr>\n",
       "    <tr>\n",
       "      <th>4</th>\n",
       "      <td>ham</td>\n",
       "      <td>Nah I don't think he goes to usf, he lives aro...</td>\n",
       "      <td>NaN</td>\n",
       "      <td>NaN</td>\n",
       "      <td>NaN</td>\n",
       "    </tr>\n",
       "  </tbody>\n",
       "</table>\n",
       "</div>"
      ],
      "text/plain": [
       "     v1                                                 v2 Unnamed: 2  \\\n",
       "0   ham  Go until jurong point, crazy.. Available only ...        NaN   \n",
       "1   ham                      Ok lar... Joking wif u oni...        NaN   \n",
       "2  spam  Free entry in 2 a wkly comp to win FA Cup fina...        NaN   \n",
       "3   ham  U dun say so early hor... U c already then say...        NaN   \n",
       "4   ham  Nah I don't think he goes to usf, he lives aro...        NaN   \n",
       "\n",
       "  Unnamed: 3 Unnamed: 4  \n",
       "0        NaN        NaN  \n",
       "1        NaN        NaN  \n",
       "2        NaN        NaN  \n",
       "3        NaN        NaN  \n",
       "4        NaN        NaN  "
      ]
     },
     "execution_count": 2,
     "metadata": {},
     "output_type": "execute_result"
    }
   ],
   "source": [
    "# Define file path\n",
    "filepath =\"D://Portfolio//Internship//AFAME//Project details//Spam SMS Detection//spam.csv\"\n",
    "# Read the CSV file into a DataFrame with specified encoding\n",
    "data = pd.read_csv(filepath, encoding='latin1')\n",
    "# Display the first few rows of the DataFrame\n",
    "data.head()"
   ]
  },
  {
   "cell_type": "code",
   "execution_count": 3,
   "id": "1fb92c16-8778-46c3-a245-cb35a9e49730",
   "metadata": {},
   "outputs": [
    {
     "name": "stdout",
     "output_type": "stream",
     "text": [
      "<class 'pandas.core.frame.DataFrame'>\n",
      "RangeIndex: 5572 entries, 0 to 5571\n",
      "Data columns (total 5 columns):\n",
      " #   Column      Non-Null Count  Dtype \n",
      "---  ------      --------------  ----- \n",
      " 0   v1          5572 non-null   object\n",
      " 1   v2          5572 non-null   object\n",
      " 2   Unnamed: 2  50 non-null     object\n",
      " 3   Unnamed: 3  12 non-null     object\n",
      " 4   Unnamed: 4  6 non-null      object\n",
      "dtypes: object(5)\n",
      "memory usage: 217.8+ KB\n"
     ]
    }
   ],
   "source": [
    "data.info()"
   ]
  },
  {
   "cell_type": "markdown",
   "id": "ee4fc490-e1b3-43b0-a600-481b57bc9746",
   "metadata": {},
   "source": [
    "## Data Preparation\n",
    "<a class=\"anchor\" id=\"2\"></a>\n",
    "[Table of Contents](#0.1)"
   ]
  },
  {
   "cell_type": "code",
   "execution_count": 4,
   "id": "8d9cba9a-5b45-48d2-b754-d6a73099f886",
   "metadata": {},
   "outputs": [
    {
     "data": {
      "text/html": [
       "<div>\n",
       "<style scoped>\n",
       "    .dataframe tbody tr th:only-of-type {\n",
       "        vertical-align: middle;\n",
       "    }\n",
       "\n",
       "    .dataframe tbody tr th {\n",
       "        vertical-align: top;\n",
       "    }\n",
       "\n",
       "    .dataframe thead th {\n",
       "        text-align: right;\n",
       "    }\n",
       "</style>\n",
       "<table border=\"1\" class=\"dataframe\">\n",
       "  <thead>\n",
       "    <tr style=\"text-align: right;\">\n",
       "      <th></th>\n",
       "      <th>v1</th>\n",
       "      <th>v2</th>\n",
       "    </tr>\n",
       "  </thead>\n",
       "  <tbody>\n",
       "    <tr>\n",
       "      <th>0</th>\n",
       "      <td>ham</td>\n",
       "      <td>Go until jurong point, crazy.. Available only ...</td>\n",
       "    </tr>\n",
       "    <tr>\n",
       "      <th>1</th>\n",
       "      <td>ham</td>\n",
       "      <td>Ok lar... Joking wif u oni...</td>\n",
       "    </tr>\n",
       "    <tr>\n",
       "      <th>2</th>\n",
       "      <td>spam</td>\n",
       "      <td>Free entry in 2 a wkly comp to win FA Cup fina...</td>\n",
       "    </tr>\n",
       "    <tr>\n",
       "      <th>3</th>\n",
       "      <td>ham</td>\n",
       "      <td>U dun say so early hor... U c already then say...</td>\n",
       "    </tr>\n",
       "    <tr>\n",
       "      <th>4</th>\n",
       "      <td>ham</td>\n",
       "      <td>Nah I don't think he goes to usf, he lives aro...</td>\n",
       "    </tr>\n",
       "  </tbody>\n",
       "</table>\n",
       "</div>"
      ],
      "text/plain": [
       "     v1                                                 v2\n",
       "0   ham  Go until jurong point, crazy.. Available only ...\n",
       "1   ham                      Ok lar... Joking wif u oni...\n",
       "2  spam  Free entry in 2 a wkly comp to win FA Cup fina...\n",
       "3   ham  U dun say so early hor... U c already then say...\n",
       "4   ham  Nah I don't think he goes to usf, he lives aro..."
      ]
     },
     "execution_count": 4,
     "metadata": {},
     "output_type": "execute_result"
    }
   ],
   "source": [
    "# removing excess unnecessary column \n",
    "data = data.loc[:, ~data.columns.str.contains('^Unnamed')]\n",
    "data.head()"
   ]
  },
  {
   "cell_type": "code",
   "execution_count": 5,
   "id": "72eda21a-640b-402e-8cff-d68f3073ce08",
   "metadata": {},
   "outputs": [],
   "source": [
    "data.rename(columns={'v1': 'Class', 'v2': 'Text'}, inplace=True)"
   ]
  },
  {
   "cell_type": "code",
   "execution_count": 6,
   "id": "974c2100-1404-4d2e-8a41-1e9da3d0be18",
   "metadata": {},
   "outputs": [
    {
     "data": {
      "text/html": [
       "<div>\n",
       "<style scoped>\n",
       "    .dataframe tbody tr th:only-of-type {\n",
       "        vertical-align: middle;\n",
       "    }\n",
       "\n",
       "    .dataframe tbody tr th {\n",
       "        vertical-align: top;\n",
       "    }\n",
       "\n",
       "    .dataframe thead th {\n",
       "        text-align: right;\n",
       "    }\n",
       "</style>\n",
       "<table border=\"1\" class=\"dataframe\">\n",
       "  <thead>\n",
       "    <tr style=\"text-align: right;\">\n",
       "      <th></th>\n",
       "      <th>Class</th>\n",
       "      <th>Text</th>\n",
       "    </tr>\n",
       "  </thead>\n",
       "  <tbody>\n",
       "    <tr>\n",
       "      <th>0</th>\n",
       "      <td>0</td>\n",
       "      <td>Go until jurong point, crazy.. Available only ...</td>\n",
       "    </tr>\n",
       "    <tr>\n",
       "      <th>1</th>\n",
       "      <td>0</td>\n",
       "      <td>Ok lar... Joking wif u oni...</td>\n",
       "    </tr>\n",
       "    <tr>\n",
       "      <th>2</th>\n",
       "      <td>1</td>\n",
       "      <td>Free entry in 2 a wkly comp to win FA Cup fina...</td>\n",
       "    </tr>\n",
       "    <tr>\n",
       "      <th>3</th>\n",
       "      <td>0</td>\n",
       "      <td>U dun say so early hor... U c already then say...</td>\n",
       "    </tr>\n",
       "    <tr>\n",
       "      <th>4</th>\n",
       "      <td>0</td>\n",
       "      <td>Nah I don't think he goes to usf, he lives aro...</td>\n",
       "    </tr>\n",
       "  </tbody>\n",
       "</table>\n",
       "</div>"
      ],
      "text/plain": [
       "   Class                                               Text\n",
       "0      0  Go until jurong point, crazy.. Available only ...\n",
       "1      0                      Ok lar... Joking wif u oni...\n",
       "2      1  Free entry in 2 a wkly comp to win FA Cup fina...\n",
       "3      0  U dun say so early hor... U c already then say...\n",
       "4      0  Nah I don't think he goes to usf, he lives aro..."
      ]
     },
     "execution_count": 6,
     "metadata": {},
     "output_type": "execute_result"
    }
   ],
   "source": [
    "data['Class'] = data['Class'].map({'ham':0, 'spam':1})\n",
    "data.head()"
   ]
  },
  {
   "cell_type": "code",
   "execution_count": 7,
   "id": "04f4dae2-d0e9-4b66-a757-ded3e138a527",
   "metadata": {},
   "outputs": [
    {
     "data": {
      "text/plain": [
       "Class    0\n",
       "Text     0\n",
       "dtype: int64"
      ]
     },
     "execution_count": 7,
     "metadata": {},
     "output_type": "execute_result"
    }
   ],
   "source": [
    "# Checking null values\n",
    "data.isnull().sum()"
   ]
  },
  {
   "cell_type": "code",
   "execution_count": 8,
   "id": "a1de84b4-76ac-40db-9e37-554ecdd5fa96",
   "metadata": {},
   "outputs": [
    {
     "data": {
      "text/plain": [
       "403"
      ]
     },
     "execution_count": 8,
     "metadata": {},
     "output_type": "execute_result"
    }
   ],
   "source": [
    "data.duplicated().sum()"
   ]
  },
  {
   "cell_type": "markdown",
   "id": "b43714ec-98f2-4125-8a69-cc2dc08b4ec2",
   "metadata": {},
   "source": [
    "We are retaining the duplicate values as they are crucial for our task of identifying spam SMS messages."
   ]
  },
  {
   "cell_type": "code",
   "execution_count": 9,
   "id": "fd1169fb-c62b-4ebc-9721-27681395aeda",
   "metadata": {},
   "outputs": [
    {
     "data": {
      "text/plain": [
       "Class\n",
       "0    4825\n",
       "1     747\n",
       "Name: count, dtype: int64"
      ]
     },
     "execution_count": 9,
     "metadata": {},
     "output_type": "execute_result"
    }
   ],
   "source": [
    "# Viewing values in 'v1' column\n",
    "data['Class'].value_counts()"
   ]
  },
  {
   "cell_type": "code",
   "execution_count": 10,
   "id": "34eb3932-47e1-4e9c-8353-040a30e02253",
   "metadata": {},
   "outputs": [
    {
     "data": {
      "text/html": [
       "<div>\n",
       "<style scoped>\n",
       "    .dataframe tbody tr th:only-of-type {\n",
       "        vertical-align: middle;\n",
       "    }\n",
       "\n",
       "    .dataframe tbody tr th {\n",
       "        vertical-align: top;\n",
       "    }\n",
       "\n",
       "    .dataframe thead tr th {\n",
       "        text-align: left;\n",
       "    }\n",
       "\n",
       "    .dataframe thead tr:last-of-type th {\n",
       "        text-align: right;\n",
       "    }\n",
       "</style>\n",
       "<table border=\"1\" class=\"dataframe\">\n",
       "  <thead>\n",
       "    <tr>\n",
       "      <th></th>\n",
       "      <th colspan=\"4\" halign=\"left\">Text</th>\n",
       "    </tr>\n",
       "    <tr>\n",
       "      <th></th>\n",
       "      <th>count</th>\n",
       "      <th>unique</th>\n",
       "      <th>top</th>\n",
       "      <th>freq</th>\n",
       "    </tr>\n",
       "    <tr>\n",
       "      <th>Class</th>\n",
       "      <th></th>\n",
       "      <th></th>\n",
       "      <th></th>\n",
       "      <th></th>\n",
       "    </tr>\n",
       "  </thead>\n",
       "  <tbody>\n",
       "    <tr>\n",
       "      <th>0</th>\n",
       "      <td>4825</td>\n",
       "      <td>4516</td>\n",
       "      <td>Sorry, I'll call later</td>\n",
       "      <td>30</td>\n",
       "    </tr>\n",
       "    <tr>\n",
       "      <th>1</th>\n",
       "      <td>747</td>\n",
       "      <td>653</td>\n",
       "      <td>Please call our customer service representativ...</td>\n",
       "      <td>4</td>\n",
       "    </tr>\n",
       "  </tbody>\n",
       "</table>\n",
       "</div>"
      ],
      "text/plain": [
       "       Text                                                               \n",
       "      count unique                                                top freq\n",
       "Class                                                                     \n",
       "0      4825   4516                             Sorry, I'll call later   30\n",
       "1       747    653  Please call our customer service representativ...    4"
      ]
     },
     "execution_count": 10,
     "metadata": {},
     "output_type": "execute_result"
    }
   ],
   "source": [
    "data.groupby('Class').describe()"
   ]
  },
  {
   "cell_type": "code",
   "execution_count": 11,
   "id": "da81d3d2-08bf-407e-bdc3-2cdd879e04de",
   "metadata": {},
   "outputs": [
    {
     "data": {
      "text/plain": [
       "0.15481865284974095"
      ]
     },
     "execution_count": 11,
     "metadata": {},
     "output_type": "execute_result"
    }
   ],
   "source": [
    "# Viewing the imbalanced rate\n",
    "747/4825"
   ]
  },
  {
   "cell_type": "code",
   "execution_count": 12,
   "id": "70a3a8b3-e057-4849-be0b-c6eb49d86dc6",
   "metadata": {},
   "outputs": [
    {
     "data": {
      "text/plain": [
       "5169"
      ]
     },
     "execution_count": 12,
     "metadata": {},
     "output_type": "execute_result"
    }
   ],
   "source": [
    "# Viewing unique values in 'v2'\n",
    "data['Text'].nunique()"
   ]
  },
  {
   "cell_type": "markdown",
   "id": "344711ba-86bc-45a5-9563-0552032250e7",
   "metadata": {},
   "source": [
    "## Exploratory Data Analysis\n",
    "<a class=\"anchor\" id=\"3\"></a>\n",
    "[Table of Contents](#0.1)"
   ]
  },
  {
   "cell_type": "code",
   "execution_count": 13,
   "id": "17e257a9-2651-4066-b27e-ddab1bc5307c",
   "metadata": {},
   "outputs": [
    {
     "data": {
      "image/png": "[encoded data removed]",
      "text/plain": [
       "<Figure size 640x480 with 1 Axes>"
      ]
     },
     "metadata": {},
     "output_type": "display_data"
    }
   ],
   "source": [
    "sns.set(style = \"darkgrid\" , font_scale = 1.2)\n",
    "sns.countplot(data=data, x= 'Class').set_title(\"Number of ham and spam messages\")\n",
    "plt.show()"
   ]
  },
  {
   "cell_type": "code",
   "execution_count": 14,
   "id": "5e0791a6-d45d-489c-915e-4e2efc2b8b64",
   "metadata": {},
   "outputs": [
    {
     "data": {
      "image/png": "[encoded data removed]",
      "text/plain": [
       "<Figure size 800x600 with 1 Axes>"
      ]
     },
     "metadata": {},
     "output_type": "display_data"
    }
   ],
   "source": [
    "# Plot the distribution of message lengths\n",
    "plt.figure(figsize=(8, 6))\n",
    "sns.histplot(x=data['Text'].str.len(), bins=30, hue=data['Class'], kde=True)\n",
    "plt.title('Length Distribution of Messages (Spam vs. Ham)')\n",
    "plt.xlabel('Message Length')\n",
    "plt.ylabel('Count')\n",
    "plt.show()"
   ]
  },
  {
   "cell_type": "code",
   "execution_count": 15,
   "id": "8bd267d3-0f4a-4f45-a576-a42fc457989e",
   "metadata": {},
   "outputs": [
    {
     "data": {
      "image/png": "[encoded data removed]",
      "text/plain": [
       "<Figure size 640x480 with 1 Axes>"
      ]
     },
     "metadata": {},
     "output_type": "display_data"
    }
   ],
   "source": [
    "sms = pd.value_counts(data[\"Class\"], sort=True)\n",
    "sms.plot(kind=\"pie\", labels=[\"ham\", \"spam\"], autopct=\"%1.0f%%\")\n",
    "\n",
    "plt.title(\"SMS messages Distribution\")\n",
    "plt.ylabel(\"\")\n",
    "plt.show()"
   ]
  },
  {
   "cell_type": "code",
   "execution_count": 16,
   "id": "8e5aaf59-cacb-4a3a-8269-7cb83b5e08d6",
   "metadata": {},
   "outputs": [
    {
     "data": {
      "image/png": "[encoded data removed]",
      "text/plain": [
       "<Figure size 1000x400 with 1 Axes>"
      ]
     },
     "metadata": {},
     "output_type": "display_data"
    }
   ],
   "source": [
    "# Calculate lengths of messages directly in the plotting function\n",
    "_, ax = plt.subplots(figsize=(10, 4))\n",
    "sns.kdeplot(data.loc[data.Class == 0, 'Text'].str.len(), shade=True, label='Ham', clip=(-50, 250))\n",
    "sns.kdeplot(data.loc[data.Class == 1, 'Text'].str.len(), shade=True, label='Spam', clip=(-50, 250))\n",
    "\n",
    "# Set axis labels and title\n",
    "ax.set(\n",
    "    xlabel='Length',\n",
    "    ylabel='Density',\n",
    "    title='Length of Messages (Spam vs. Ham)'\n",
    ")\n",
    "ax.legend(loc='upper right')\n",
    "\n",
    "# Show plot\n",
    "plt.show()"
   ]
  },
  {
   "cell_type": "markdown",
   "id": "824ef1c3-1f9b-4355-bc43-c7ca3399075b",
   "metadata": {},
   "source": [
    "## Balancing data\n",
    "<a class=\"anchor\" id=\"4\"></a>\n",
    "[Table of Contents](#0.1)"
   ]
  },
  {
   "cell_type": "code",
   "execution_count": 17,
   "id": "d9f20a35-b786-4b03-8182-9e3aedc5023e",
   "metadata": {},
   "outputs": [
    {
     "data": {
      "text/plain": [
       "(747, 2)"
      ]
     },
     "execution_count": 17,
     "metadata": {},
     "output_type": "execute_result"
    }
   ],
   "source": [
    "data_spam = data[data['Class']==1]\n",
    "data_spam.shape"
   ]
  },
  {
   "cell_type": "code",
   "execution_count": 18,
   "id": "61f25a92-5fc6-41a0-842e-b2e3481cb728",
   "metadata": {},
   "outputs": [
    {
     "data": {
      "text/plain": [
       "(4825, 2)"
      ]
     },
     "execution_count": 18,
     "metadata": {},
     "output_type": "execute_result"
    }
   ],
   "source": [
    "data_ham = data[data['Class']==0]\n",
    "data_ham.shape"
   ]
  },
  {
   "cell_type": "code",
   "execution_count": 19,
   "id": "f3ebd37b-d7a7-4033-b091-1586a8208edd",
   "metadata": {},
   "outputs": [
    {
     "data": {
      "text/plain": [
       "(747, 2)"
      ]
     },
     "execution_count": 19,
     "metadata": {},
     "output_type": "execute_result"
    }
   ],
   "source": [
    "data_ham_downsampled = data_ham.sample(data_spam.shape[0])\n",
    "data_ham_downsampled.shape"
   ]
  },
  {
   "cell_type": "code",
   "execution_count": 20,
   "id": "f023b50f-ad51-424a-b332-b5c89662d362",
   "metadata": {},
   "outputs": [
    {
     "data": {
      "text/plain": [
       "(1494, 2)"
      ]
     },
     "execution_count": 20,
     "metadata": {},
     "output_type": "execute_result"
    }
   ],
   "source": [
    "data_balanced = pd.concat([data_spam,data_ham_downsampled])\n",
    "data_balanced.shape"
   ]
  },
  {
   "cell_type": "code",
   "execution_count": 21,
   "id": "823619c0-10e0-4c3f-8806-1da0c03b3144",
   "metadata": {},
   "outputs": [
    {
     "data": {
      "text/plain": [
       "Class\n",
       "1    747\n",
       "0    747\n",
       "Name: count, dtype: int64"
      ]
     },
     "execution_count": 21,
     "metadata": {},
     "output_type": "execute_result"
    }
   ],
   "source": [
    "data_balanced['Class'].value_counts()"
   ]
  },
  {
   "cell_type": "markdown",
   "id": "4e1ba910-e0cb-4db0-a2e5-3d3a7256299f",
   "metadata": {},
   "source": [
    "## Training/Test Split\n",
    "<a class=\"anchor\" id=\"5\"></a>\n",
    "[Table of Contents](#0.1)"
   ]
  },
  {
   "cell_type": "code",
   "execution_count": 22,
   "id": "d71176c0-a04d-42b1-abd2-00246a348657",
   "metadata": {},
   "outputs": [],
   "source": [
    "X = data_balanced['Text']\n",
    "y = data_balanced['Class']"
   ]
  },
  {
   "cell_type": "code",
   "execution_count": 23,
   "id": "3bd4948a-2f27-429e-b79b-5579b0452c49",
   "metadata": {},
   "outputs": [
    {
     "name": "stdout",
     "output_type": "stream",
     "text": [
      "Training data: 1045, 1045\n",
      "Testing data: 449, 449\n"
     ]
    }
   ],
   "source": [
    "from sklearn.model_selection import train_test_split\n",
    "\n",
    "X_train, X_test, y_train, y_test = train_test_split(X, y, test_size = 0.3, stratify = y)\n",
    "\n",
    "print(f'Training data: {len(X_train)}, {len(y_train)}')\n",
    "print(f'Testing data: {len(X_test)}, {len(y_test)}') "
   ]
  },
  {
   "cell_type": "markdown",
   "id": "49945165-2b55-4609-a286-0f2cca79e38c",
   "metadata": {},
   "source": [
    "## Model Building\n",
    "<a class=\"anchor\" id=\"6\"></a>\n",
    "[Table of Contents](#0.1)"
   ]
  },
  {
   "cell_type": "code",
   "execution_count": 24,
   "id": "b82c21e6-7698-421f-87c8-d07a40868ccf",
   "metadata": {},
   "outputs": [
    {
     "name": "stdout",
     "output_type": "stream",
     "text": [
      "CPU times: total: 9.08 s\n",
      "Wall time: 13.4 s\n"
     ]
    }
   ],
   "source": [
    "%%time\n",
    "bert_preprocessor = hub.KerasLayer('https://tfhub.dev/tensorflow/bert_en_uncased_preprocess/3') # loading Bert Preprocessor\n",
    "bert_encoder = hub.KerasLayer('https://tfhub.dev/tensorflow/bert_en_uncased_L-12_H-768_A-12/4') # Loading Bert Encoder"
   ]
  },
  {
   "cell_type": "code",
   "execution_count": 25,
   "id": "9c874dd3-838d-43bd-ba23-c8544bc63970",
   "metadata": {},
   "outputs": [
    {
     "name": "stdout",
     "output_type": "stream",
     "text": [
      "CPU times: total: 359 ms\n",
      "Wall time: 552 ms\n"
     ]
    }
   ],
   "source": [
    "%%time\n",
    "# Functional Bert layers\n",
    "text_input = tf.keras.layers.Input(shape = (), dtype = tf.string, name = 'Inputs')\n",
    "encoder_inputs = bert_preprocessor(text_input)\n",
    "embbed = bert_encoder(encoder_inputs)\n",
    "# Neural Network layers\n",
    "dropout = tf.keras.layers.Dropout(0.1, name = 'Dropout')(embbed['pooled_output'])\n",
    "outputs = tf.keras.layers.Dense(1, activation = 'sigmoid', name = 'Dense')(dropout)\n",
    "\n",
    "# creating final model\n",
    "model = tf.keras.Model(inputs = [text_input], outputs = [outputs])"
   ]
  },
  {
   "cell_type": "code",
   "execution_count": 26,
   "id": "19f18d27-2f31-404e-9c7f-2814c669f51c",
   "metadata": {},
   "outputs": [
    {
     "name": "stdout",
     "output_type": "stream",
     "text": [
      "Model: \"model\"\n",
      "__________________________________________________________________________________________________\n",
      " Layer (type)                   Output Shape         Param #     Connected to                     \n",
      "==================================================================================================\n",
      " Inputs (InputLayer)            [(None,)]            0           []                               \n",
      "                                                                                                  \n",
      " keras_layer (KerasLayer)       {'input_word_ids':   0           ['Inputs[0][0]']                 \n",
      "                                (None, 128),                                                      \n",
      "                                 'input_mask': (Non                                               \n",
      "                                e, 128),                                                          \n",
      "                                 'input_type_ids':                                                \n",
      "                                (None, 128)}                                                      \n",
      "                                                                                                  \n",
      " keras_layer_1 (KerasLayer)     {'sequence_output':  109482241   ['keras_layer[0][0]',            \n",
      "                                 (None, 128, 768),                'keras_layer[0][1]',            \n",
      "                                 'default': (None,                'keras_layer[0][2]']            \n",
      "                                768),                                                             \n",
      "                                 'pooled_output': (                                               \n",
      "                                None, 768),                                                       \n",
      "                                 'encoder_outputs':                                               \n",
      "                                 [(None, 128, 768),                                               \n",
      "                                 (None, 128, 768),                                                \n",
      "                                 (None, 128, 768),                                                \n",
      "                                 (None, 128, 768),                                                \n",
      "                                 (None, 128, 768),                                                \n",
      "                                 (None, 128, 768),                                                \n",
      "                                 (None, 128, 768),                                                \n",
      "                                 (None, 128, 768),                                                \n",
      "                                 (None, 128, 768),                                                \n",
      "                                 (None, 128, 768),                                                \n",
      "                                 (None, 128, 768),                                                \n",
      "                                 (None, 128, 768)]}                                               \n",
      "                                                                                                  \n",
      " Dropout (Dropout)              (None, 768)          0           ['keras_layer_1[0][13]']         \n",
      "                                                                                                  \n",
      " Dense (Dense)                  (None, 1)            769         ['Dropout[0][0]']                \n",
      "                                                                                                  \n",
      "==================================================================================================\n",
      "Total params: 109,483,010\n",
      "Trainable params: 769\n",
      "Non-trainable params: 109,482,241\n",
      "__________________________________________________________________________________________________\n"
     ]
    }
   ],
   "source": [
    "model.summary()"
   ]
  },
  {
   "cell_type": "code",
   "execution_count": 27,
   "id": "042570fa-a778-46ff-85c0-5c4428e4af94",
   "metadata": {},
   "outputs": [],
   "source": [
    "metrics = [\n",
    "    tf.keras.metrics.BinaryAccuracy(name='accuracy'),\n",
    "    tf.keras.metrics.Precision(name='precision'),\n",
    "    tf.keras.metrics.Recall(name='recall')\n",
    "]\n",
    "\n",
    "model.compile(optimizer = 'adam',\n",
    "              loss = 'binary_crossentropy',\n",
    "              metrics = metrics)"
   ]
  },
  {
   "cell_type": "code",
   "execution_count": 28,
   "id": "d2c9a3c5-854d-4b5b-b81b-0c2a088f8e73",
   "metadata": {},
   "outputs": [
    {
     "name": "stdout",
     "output_type": "stream",
     "text": [
      "Epoch 1/10\n",
      "33/33 [==============================] - 22s 378ms/step - loss: 0.6630 - accuracy: 0.6038 - precision: 0.6071 - recall: 0.5862\n",
      "Epoch 2/10\n",
      "33/33 [==============================] - 12s 378ms/step - loss: 0.5223 - accuracy: 0.8057 - precision: 0.7905 - recall: 0.8314\n",
      "Epoch 3/10\n",
      "33/33 [==============================] - 13s 380ms/step - loss: 0.4389 - accuracy: 0.8689 - precision: 0.8598 - recall: 0.8812\n",
      "Epoch 4/10\n",
      "33/33 [==============================] - 13s 382ms/step - loss: 0.3958 - accuracy: 0.8584 - precision: 0.8438 - recall: 0.8793\n",
      "Epoch 5/10\n",
      "33/33 [==============================] - 13s 380ms/step - loss: 0.3609 - accuracy: 0.8833 - precision: 0.8745 - recall: 0.8946\n",
      "Epoch 6/10\n",
      "33/33 [==============================] - 13s 380ms/step - loss: 0.3320 - accuracy: 0.8880 - precision: 0.8729 - recall: 0.9080\n",
      "Epoch 7/10\n",
      "33/33 [==============================] - 13s 382ms/step - loss: 0.3180 - accuracy: 0.8957 - precision: 0.8831 - recall: 0.9119\n",
      "Epoch 8/10\n",
      "33/33 [==============================] - 13s 382ms/step - loss: 0.3102 - accuracy: 0.9005 - precision: 0.8943 - recall: 0.9080\n",
      "Epoch 9/10\n",
      "33/33 [==============================] - 13s 385ms/step - loss: 0.2995 - accuracy: 0.9014 - precision: 0.8916 - recall: 0.9138\n",
      "Epoch 10/10\n",
      "33/33 [==============================] - 13s 382ms/step - loss: 0.2856 - accuracy: 0.9167 - precision: 0.9175 - recall: 0.9157\n",
      "CPU times: total: 1min 42s\n",
      "Wall time: 2min 14s\n"
     ]
    },
    {
     "data": {
      "text/plain": [
       "<keras.callbacks.History at 0x27366297d60>"
      ]
     },
     "execution_count": 28,
     "metadata": {},
     "output_type": "execute_result"
    }
   ],
   "source": [
    "%%time\n",
    "# Model building\n",
    "\n",
    "model.fit(X_train, y_train, epochs = 10)"
   ]
  },
  {
   "cell_type": "markdown",
   "id": "49b8576e-c7f1-4284-b5a6-1e1724b3fb53",
   "metadata": {},
   "source": [
    "## Model Evaluation\n",
    "<a class=\"anchor\" id=\"7\"></a>\n",
    "[Table of Contents](#0.1)"
   ]
  },
  {
   "cell_type": "code",
   "execution_count": 29,
   "id": "a69eb199-076b-4981-adf3-19a50eb70a39",
   "metadata": {},
   "outputs": [
    {
     "name": "stdout",
     "output_type": "stream",
     "text": [
      "15/15 [==============================] - 6s 359ms/step - loss: 0.2525 - accuracy: 0.9332 - precision: 0.9221 - recall: 0.9467\n"
     ]
    },
    {
     "data": {
      "text/plain": [
       "[0.2524896562099457,\n",
       " 0.9331848621368408,\n",
       " 0.9220778942108154,\n",
       " 0.9466666579246521]"
      ]
     },
     "execution_count": 29,
     "metadata": {},
     "output_type": "execute_result"
    }
   ],
   "source": [
    "model.evaluate(X_test, y_test)"
   ]
  },
  {
   "cell_type": "code",
   "execution_count": 30,
   "id": "af1d52b4-6c23-4e79-8bc8-42a73ec5a6d5",
   "metadata": {},
   "outputs": [
    {
     "name": "stdout",
     "output_type": "stream",
     "text": [
      "15/15 [==============================] - 6s 378ms/step\n"
     ]
    }
   ],
   "source": [
    "y_predict = model.predict(X_test)\n",
    "y_predict = y_predict.flatten()"
   ]
  },
  {
   "cell_type": "code",
   "execution_count": 31,
   "id": "ca30f06b-74d9-4ec7-a6e8-037fa7bae72b",
   "metadata": {},
   "outputs": [
    {
     "data": {
      "text/plain": [
       "array([1, 1, 1, 0, 0, 1, 1, 1, 1, 1, 0, 0, 1, 1, 0, 0, 0, 1, 0, 1, 0, 1,\n",
       "       1, 1, 0, 1, 0, 1, 0, 1, 0, 0, 1, 1, 1, 0, 0, 1, 1, 1, 1, 0, 0, 1,\n",
       "       1, 0, 0, 0, 1, 0, 0, 0, 1, 0, 0, 0, 0, 1, 0, 1, 0, 1, 0, 0, 0, 0,\n",
       "       1, 1, 0, 0, 1, 1, 1, 0, 1, 0, 1, 1, 1, 1, 0, 0, 0, 1, 0, 0, 1, 1,\n",
       "       1, 0, 1, 1, 1, 0, 1, 1, 0, 1, 1, 1, 1, 1, 1, 0, 1, 1, 0, 1, 0, 0,\n",
       "       1, 0, 1, 0, 0, 0, 0, 1, 0, 0, 0, 0, 1, 0, 1, 1, 0, 0, 1, 1, 1, 0,\n",
       "       0, 0, 0, 0, 0, 0, 1, 0, 1, 1, 1, 0, 1, 0, 1, 0, 1, 0, 1, 1, 1, 0,\n",
       "       1, 0, 1, 0, 1, 1, 0, 1, 0, 1, 1, 0, 1, 0, 1, 0, 0, 0, 0, 1, 1, 1,\n",
       "       0, 0, 0, 1, 1, 1, 0, 0, 1, 1, 0, 1, 0, 1, 1, 1, 1, 1, 0, 0, 0, 0,\n",
       "       0, 1, 1, 0, 0, 1, 0, 0, 0, 0, 0, 0, 1, 1, 0, 1, 0, 0, 0, 0, 0, 0,\n",
       "       1, 0, 1, 0, 0, 1, 1, 1, 0, 1, 0, 0, 0, 1, 1, 0, 1, 0, 0, 0, 1, 0,\n",
       "       0, 1, 0, 0, 1, 1, 1, 1, 1, 0, 1, 0, 1, 1, 1, 1, 1, 1, 0, 0, 1, 0,\n",
       "       0, 1, 0, 0, 1, 0, 0, 0, 1, 1, 0, 1, 0, 0, 1, 0, 1, 0, 0, 1, 1, 0,\n",
       "       0, 1, 1, 1, 1, 1, 1, 1, 1, 0, 1, 1, 1, 0, 1, 0, 0, 1, 1, 0, 1, 0,\n",
       "       1, 1, 0, 0, 0, 0, 0, 0, 1, 1, 1, 1, 1, 0, 0, 1, 0, 1, 1, 1, 1, 1,\n",
       "       0, 1, 1, 1, 0, 1, 1, 0, 1, 1, 1, 0, 0, 1, 0, 1, 0, 0, 1, 1, 1, 0,\n",
       "       0, 1, 0, 1, 1, 1, 0, 0, 1, 1, 1, 0, 0, 1, 1, 0, 1, 1, 1, 1, 1, 1,\n",
       "       1, 0, 0, 0, 1, 1, 0, 1, 0, 1, 0, 0, 0, 0, 1, 0, 0, 0, 1, 1, 0, 1,\n",
       "       1, 0, 1, 1, 1, 1, 0, 1, 0, 0, 0, 0, 0, 1, 1, 1, 0, 0, 0, 0, 0, 1,\n",
       "       0, 1, 1, 0, 1, 1, 0, 0, 1, 1, 1, 0, 0, 1, 1, 0, 1, 1, 0, 1, 0, 0,\n",
       "       1, 0, 0, 1, 0, 0, 0, 1, 0])"
      ]
     },
     "execution_count": 31,
     "metadata": {},
     "output_type": "execute_result"
    }
   ],
   "source": [
    "y_predict = np.where(y_predict > 0.5,1,0)\n",
    "y_predict"
   ]
  },
  {
   "cell_type": "code",
   "execution_count": 32,
   "id": "5543c5a0-ecfb-4dec-889e-3ba37a907753",
   "metadata": {},
   "outputs": [
    {
     "data": {
      "text/plain": [
       "array([[206,  18],\n",
       "       [ 12, 213]], dtype=int64)"
      ]
     },
     "execution_count": 32,
     "metadata": {},
     "output_type": "execute_result"
    }
   ],
   "source": [
    "from sklearn.metrics import confusion_matrix, classification_report\n",
    "\n",
    "cm = confusion_matrix(y_test, y_predict)\n",
    "cm"
   ]
  },
  {
   "cell_type": "code",
   "execution_count": 33,
   "id": "931aff55-7eb8-48fe-a6f0-711697997bb6",
   "metadata": {},
   "outputs": [
    {
     "data": {
      "text/plain": [
       "Text(43.25, 0.5, 'Actual')"
      ]
     },
     "execution_count": 33,
     "metadata": {},
     "output_type": "execute_result"
    },
    {
     "data": {
      "image/png": "[encoded data removed]",
      "text/plain": [
       "<Figure size 640x480 with 2 Axes>"
      ]
     },
     "metadata": {},
     "output_type": "display_data"
    }
   ],
   "source": [
    "sns.heatmap(cm, annot=True, fmt = 'd')\n",
    "plt.xlabel('Predicted')\n",
    "plt.ylabel('Actual')"
   ]
  },
  {
   "cell_type": "code",
   "execution_count": 34,
   "id": "3665785c-70e4-427b-99c8-2e3c6f1c6212",
   "metadata": {},
   "outputs": [
    {
     "name": "stdout",
     "output_type": "stream",
     "text": [
      "              precision    recall  f1-score   support\n",
      "\n",
      "           0       0.94      0.92      0.93       224\n",
      "           1       0.92      0.95      0.93       225\n",
      "\n",
      "    accuracy                           0.93       449\n",
      "   macro avg       0.93      0.93      0.93       449\n",
      "weighted avg       0.93      0.93      0.93       449\n",
      "\n"
     ]
    }
   ],
   "source": [
    "print(classification_report(y_test, y_predict))"
   ]
  },
  {
   "cell_type": "markdown",
   "id": "d7b8b6a2-119c-4104-907f-61cf411ff806",
   "metadata": {},
   "source": [
    "## Inference\n",
    "<a class=\"anchor\" id=\"8\"></a>\n",
    "[Table of Contents](#0.1)"
   ]
  },
  {
   "cell_type": "code",
   "execution_count": 35,
   "id": "4095dcfb-2b64-4bdf-998d-225938fccc2f",
   "metadata": {},
   "outputs": [
    {
     "name": "stdout",
     "output_type": "stream",
     "text": [
      "1/1 [==============================] - 1s 786ms/step\n"
     ]
    },
    {
     "data": {
      "text/plain": [
       "array([[0.8626714 ],\n",
       "       [0.5379645 ],\n",
       "       [0.20435609],\n",
       "       [0.5407413 ],\n",
       "       [0.14179212]], dtype=float32)"
      ]
     },
     "execution_count": 35,
     "metadata": {},
     "output_type": "execute_result"
    }
   ],
   "source": [
    "# Actual real examples\n",
    "reviews = [\n",
    "    'Sathish, You will be hired at managerial roles in top companies',\n",
    "    'Citrusbug Technolabs is hiring for AI/ML Engineer + 14 new Fresher Data Science jobs',\n",
    "    'Job opportunity from Wipro just for You!',\n",
    "    'Dear Congratulations - Get Your Job Offer Letter @ Cognizant',\n",
    "    'Practice Coding with A Very Big Sum'\n",
    "]\n",
    "\n",
    "# Detection of examples\n",
    "model.predict(reviews)"
   ]
  },
  {
   "cell_type": "markdown",
   "id": "a1611214-ffb6-4c75-84e6-62f990d748d8",
   "metadata": {},
   "source": [
    "## Deployment\n",
    "<a class=\"anchor\" id=\"9\"></a>\n",
    "[Table of Contents](#0.1)"
   ]
  },
  {
   "cell_type": "code",
   "execution_count": 36,
   "id": "d7c89cbd-a852-4cfb-bf16-81c81248cca6",
   "metadata": {},
   "outputs": [],
   "source": [
    "# Save the entire model to a HDF5 file\n",
    "model.save('Spam Detector.h5')\n"
   ]
  },
  {
   "cell_type": "raw",
   "id": "d3c2055e-1c61-45c1-8279-2cb1b6fe26c2",
   "metadata": {},
   "source": [
    "from tensorflow.keras.models import load_model\n",
    "\n",
    "# Load the model\n",
    "new_model = load_model('my_model.h5')\n"
   ]
  },
  {
   "cell_type": "markdown",
   "id": "226488b3-e206-47b3-9dcb-bb4d9d42848b",
   "metadata": {},
   "source": [
    "## References\n",
    "<a class=\"anchor\" id=\"10\"></a>\n",
    "[Table of Contents](#0.1)"
   ]
  },
  {
   "cell_type": "markdown",
   "id": "c4952763-3430-4f72-9e37-30b32aaa7152",
   "metadata": {},
   "source": [
    "`www.google.com`  `www.stackoverflow.com`  `www.tensorflowhub.com`  `www.geeksforgeeks.com`  `www.youtube.com`"
   ]
  }
 ],
 "metadata": {
  "kernelspec": {
   "display_name": "Python 3 (ipykernel)",
   "language": "python",
   "name": "python3"
  },
  "language_info": {
   "codemirror_mode": {
    "name": "ipython",
    "version": 3
   },
   "file_extension": ".py",
   "mimetype": "text/x-python",
   "name": "python",
   "nbconvert_exporter": "python",
   "pygments_lexer": "ipython3",
   "version": "3.10.13"
  }
 },
 "nbformat": 4,
 "nbformat_minor": 5
}
